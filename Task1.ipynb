{
 "cells": [
  {
   "cell_type": "markdown",
   "metadata": {},
   "source": [
    "<h1>Task 1</h1>\n",
    "<P>In this Task we are going to fix the spelling mistakes using several fuzzy matching algorithms.</p>"
   ]
  },
  {
   "cell_type": "markdown",
   "metadata": {},
   "source": [
    "<p>Importing Libraries and Creating a DataFrame by the Reading csv </p> "
   ]
  },
  {
   "cell_type": "code",
   "execution_count": 2,
   "metadata": {},
   "outputs": [],
   "source": [
    "import pandas as pd\n",
    "import matplotlib.pyplot as plt\n",
    "\n",
    "occupations = ['doctor','lawyer','teacher','engineer','accountant','nurse','police','architect','dentist','phramacist']\n",
    "\n",
    "data = pd.read_excel(\"TaskData.xlsx\")                         #Creating A DataFrame For Storing Data\n",
    "data.loc[len(data.index)] = [data.columns[0]]\n",
    "data = data.rename(columns={data.columns[0]:\"INP\"})"
   ]
  },
  {
   "cell_type": "markdown",
   "metadata": {},
   "source": [
    "<p>Defining Functions for Cosine similarity and Jaccard similarity<br>\n",
    "These Functions Return Similarity of the words in between 0 and 1.</p>"
   ]
  },
  {
   "cell_type": "code",
   "execution_count": 3,
   "metadata": {},
   "outputs": [],
   "source": [
    "def cosine_similarity(word1,word2):       #Function to Return Consine Similarity Between Two Words\n",
    "    word1 = word1.lower()              #Changing All the Characters to LowerCase\n",
    "    word2 = word2.lower()\n",
    "\n",
    "    chars = []                         #Creating A List of All Distinct Characters\n",
    "    for i in word1:\n",
    "        chars.append(i)\n",
    "\n",
    "    for i in word2:\n",
    "        if i not in chars:\n",
    "            chars.append(i)\n",
    "\n",
    "    table = []                          #A 2D List for Count Of Every Distinct Character\n",
    "    table.append(chars)\n",
    "    word1_count = []\n",
    "    word2_count = []\n",
    "\n",
    "    for i in chars:\n",
    "        word1_count.append(word1.count(i)) \n",
    "        word2_count.append(word2.count(i)) \n",
    "\n",
    "    table.append(word1_count)\n",
    "    table.append(word2_count)\n",
    "\n",
    "    num = 0                               #Applying Cosine Silarity Formula\n",
    "    deno1 = 0\n",
    "    deno2 = 0\n",
    "    for i in range(len(chars)):\n",
    "        num += table[1][i] * table[2][i]\n",
    "        deno1 += table[1][i]**2\n",
    "        deno2 += table[2][i]**2\n",
    "\n",
    "    deno = (deno1**0.5) * (deno2**0.5)\n",
    "    cosine_similarity = num/deno\n",
    "    return cosine_similarity\n",
    "\n",
    "def jaccard_similarity(word1,word2):        #Function to Return Jacccard Similarity Between Two Words\n",
    "    word1 = word1.lower()               #Changing All the Characters to LowerCase\n",
    "    word2 = word2.lower()\n",
    "\n",
    "    chars = []                          #Creating A List of All Distinct Characters\n",
    "    for i in word1:\n",
    "        chars.append(i)\n",
    "\n",
    "    for i in word2:\n",
    "        if i not in chars:\n",
    "            chars.append(i)\n",
    "\n",
    "    intersection = []                  #A List For Intersection of the Two lists\n",
    "    union = []                         #A List For Union of the Two lists\n",
    "    for i in chars:\n",
    "        if (i in word1) and (i in word2):\n",
    "            intersection.append(i)\n",
    "        if (i in word1) or (i in word2):\n",
    "            union.append(i)\n",
    "        \n",
    "    jaccard_similarity = len(intersection)/len(union)  #Applying Jaccard Similarity Formula\n",
    "\n",
    "    return jaccard_similarity\n",
    "\n",
    "\n",
    "\n",
    "def levenshtein(str1, str2):           #Function to Return Edit Distance Between Two Words\n",
    "    str1 = str1.lower()         #Changing All the Characters to LowerCase\n",
    "    str2 = str2.lower()\n",
    "    m = len(str1)\n",
    "    n = len(str2)\n",
    "\n",
    "    dp = [[0 for i in range(n + 1)] for j in range(m + 1)]  #Creating a 2D Array with Zeros\n",
    " \n",
    "    for i in range(m + 1):\n",
    "        dp[i][0] = i\n",
    "    for j in range(n + 1):\n",
    "        dp[0][j] = j\n",
    "    \n",
    "\n",
    "    for i in range(1, m + 1):\n",
    "        for j in range(1, n + 1):\n",
    "            if str1[i - 1] == str2[j - 1]:\n",
    "                dp[i][j] = dp[i - 1][j - 1]\n",
    "            else:\n",
    "                dp[i][j] = 1 + min(dp[i][j - 1], dp[i - 1][j], dp[i - 1][j - 1])\n",
    " \n",
    "    # Return the edit distance between the strings\n",
    "    return dp[m][n]"
   ]
  },
  {
   "cell_type": "markdown",
   "metadata": {},
   "source": [
    "<p>Looping through Every Occupations and returning the word with highest similarity</p>"
   ]
  },
  {
   "cell_type": "code",
   "execution_count": 4,
   "metadata": {},
   "outputs": [],
   "source": [
    "def matching_word(word,method):  #Function to Return Best Matching Word Based On the Method Mentioned\n",
    "    cosine_list = []\n",
    "    for i in occupations:\n",
    "        if method==1:\n",
    "            cosine_list.append(cosine_similarity(word,i))\n",
    "        elif method==2:\n",
    "            cosine_list.append(jaccard_similarity(word,i))\n",
    "        elif method==3:\n",
    "            cosine_list.append(levenshtein(word,i))\n",
    "    if method==1 or method==2:\n",
    "        return occupations[cosine_list.index(max(cosine_list))]\n",
    "    else :\n",
    "        return occupations[cosine_list.index(min(cosine_list))]"
   ]
  },
  {
   "cell_type": "markdown",
   "metadata": {},
   "source": [
    "<p>Calling All the functions and Visualizing the data using Plotly1\n",
    "\n",
    "</p>"
   ]
  },
  {
   "cell_type": "code",
   "execution_count": 5,
   "metadata": {},
   "outputs": [
    {
     "name": "stdout",
     "output_type": "stream",
     "text": [
      "[202, 82, 211, 328, 32, 85, 162, 70, 192, 42]\n"
     ]
    },
    {
     "data": {
      "image/png": "[encoded data removed]",
      "text/plain": [
       "<Figure size 640x480 with 1 Axes>"
      ]
     },
     "metadata": {},
     "output_type": "display_data"
    }
   ],
   "source": [
    "out1 = []\n",
    "out2 = []\n",
    "out3 = []\n",
    "res=[]\n",
    "\n",
    "for i in data['INP']:\n",
    "    out1.append(matching_word(i,1))\n",
    "    out2.append(matching_word(i,2))\n",
    "    out3.append(matching_word(i,3))\n",
    "\n",
    "data['Cosine Method']  = out1\n",
    "data['Jaccard Method']  = out2\n",
    "data['Levenshtein Method']  = out3\n",
    "\n",
    "for i in range(data.shape[0]):     #Genarating Final Result Based On Majorty Of the Result\n",
    "    x = list(data.loc[i])\n",
    "    if x.count(x[0])>1:\n",
    "        res.append(x[0])\n",
    "    elif x.count(x[1])>1:\n",
    "        res.append(x[1])\n",
    "    else:\n",
    "        res.append(x[2])\n",
    "\n",
    "data['Result'] = res\n",
    "\n",
    "count = []                          #List Containing Count Of every Occupation\n",
    "for i in occupations:\n",
    "    count.append(res.count(i))\n",
    "\n",
    "print(count)\n",
    "\n",
    "plt.bar(occupations,count)           #Generating An Bargrapgh of the Count Vs Occupation \n",
    "plt.xticks(rotation = 'vertical')\n",
    "plt.show()"
   ]
  }
 ],
 "metadata": {
  "kernelspec": {
   "display_name": "Python 3",
   "language": "python",
   "name": "python3"
  },
  "language_info": {
   "codemirror_mode": {
    "name": "ipython",
    "version": 3
   },
   "file_extension": ".py",
   "mimetype": "text/x-python",
   "name": "python",
   "nbconvert_exporter": "python",
   "pygments_lexer": "ipython3",
   "version": "3.12.3"
  }
 },
 "nbformat": 4,
 "nbformat_minor": 2
}
